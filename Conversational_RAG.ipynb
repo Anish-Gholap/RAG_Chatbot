{
 "cells": [
  {
   "cell_type": "markdown",
   "metadata": {},
   "source": [
    "# Retrieval And Generation"
   ]
  },
  {
   "cell_type": "markdown",
   "metadata": {},
   "source": [
    "## What is RAG?\n",
    "\n",
    "Allows LLM to have context of your propriety documents along with your prompt"
   ]
  },
  {
   "cell_type": "code",
   "execution_count": 1,
   "metadata": {},
   "outputs": [
    {
     "name": "stdout",
     "output_type": "stream",
     "text": [
      "0.3.20\n"
     ]
    }
   ],
   "source": [
    "import langchain\n",
    "print(langchain.__version__)"
   ]
  },
  {
   "cell_type": "markdown",
   "metadata": {},
   "source": [
    "### Load API KEYS"
   ]
  },
  {
   "cell_type": "code",
   "execution_count": 2,
   "metadata": {},
   "outputs": [],
   "source": [
    "import os \n",
    "from dotenv import load_dotenv\n",
    "\n",
    "load_dotenv()\n",
    "\n",
    "OPENAI_API_KEY = os.getenv(\"OPENAI_API_KEY\")\n",
    "GROQ_API_KEY = os.getenv(\"GROQ_API_KEY\")\n",
    "\n",
    "# Setup LangSmith\n",
    "os.environ[\"LANGSMITH_TRACING_V2\"] = \"true\"\n",
    "os.environ[\"LANGSMITH_ENDPOINT\"] = 'https://api.smith.langchain.com'\n",
    "os.environ[\"LANGSMITH_PROJECT\"] = \"RAG_Chatbot\"\n",
    "LANGSMITH_API_KEY = os.getenv(\"LANGSMITH_API_KEY\")\n"
   ]
  },
  {
   "cell_type": "markdown",
   "metadata": {},
   "source": [
    "### Sample Response"
   ]
  },
  {
   "cell_type": "code",
   "execution_count": 3,
   "metadata": {},
   "outputs": [
    {
     "data": {
      "text/plain": [
       "AIMessage(content=\"Here's one:\\n\\nWhat do you call a fake noodle?\\n\\nAn impasta!\\n\\nHope that made you laugh! Do you want to hear another one?\", additional_kwargs={}, response_metadata={'token_usage': {'completion_tokens': 32, 'prompt_tokens': 39, 'total_tokens': 71, 'completion_time': 0.116363636, 'prompt_time': 0.005940527, 'queue_time': 0.05428515, 'total_time': 0.122304163}, 'model_name': 'llama-3.3-70b-versatile', 'system_fingerprint': 'fp_76dc6cf67d', 'finish_reason': 'stop', 'logprobs': None}, id='run-e3461579-16c9-47b6-8e97-f218e8fc34bb-0', usage_metadata={'input_tokens': 39, 'output_tokens': 32, 'total_tokens': 71})"
      ]
     },
     "execution_count": 3,
     "metadata": {},
     "output_type": "execute_result"
    }
   ],
   "source": [
    "from langchain_groq import ChatGroq\n",
    "\n",
    "llm = ChatGroq(model=\"llama-3.3-70b-versatile\")\n",
    "llm_response = llm.invoke(\"Tell me a joke\")\n",
    "\n",
    "llm_response"
   ]
  },
  {
   "cell_type": "code",
   "execution_count": 4,
   "metadata": {},
   "outputs": [
    {
     "data": {
      "text/plain": [
       "langchain_core.messages.ai.AIMessage"
      ]
     },
     "execution_count": 4,
     "metadata": {},
     "output_type": "execute_result"
    }
   ],
   "source": [
    "type(llm_response)"
   ]
  },
  {
   "cell_type": "code",
   "execution_count": 5,
   "metadata": {},
   "outputs": [
    {
     "data": {
      "text/plain": [
       "\"Here's one:\\n\\nWhat do you call a fake noodle?\\n\\nAn impasta!\\n\\nHope that made you laugh! Do you want to hear another one?\""
      ]
     },
     "execution_count": 5,
     "metadata": {},
     "output_type": "execute_result"
    }
   ],
   "source": [
    "llm_response.content"
   ]
  },
  {
   "cell_type": "markdown",
   "metadata": {},
   "source": [
    "### Parsing output\n",
    "\n",
    "Instead of using the AI message content property, we parse the output instead"
   ]
  },
  {
   "cell_type": "code",
   "execution_count": 6,
   "metadata": {},
   "outputs": [
    {
     "data": {
      "text/plain": [
       "\"Here's one:\\n\\nWhat do you call a fake noodle?\\n\\nAn impasta!\\n\\nHope that made you laugh! Do you want to hear another one?\""
      ]
     },
     "execution_count": 6,
     "metadata": {},
     "output_type": "execute_result"
    }
   ],
   "source": [
    "from langchain_core.output_parsers import StrOutputParser\n",
    "\n",
    "output_parser = StrOutputParser()\n",
    "\n",
    "# Send response to parser\n",
    "output_parser.invoke(llm_response)"
   ]
  },
  {
   "cell_type": "markdown",
   "metadata": {},
   "source": [
    "### Chaining \n",
    "\n",
    "Helps us combine steps that invole the invoke command together into a single chain"
   ]
  },
  {
   "cell_type": "code",
   "execution_count": 7,
   "metadata": {},
   "outputs": [
    {
     "data": {
      "text/plain": [
       "\"Here's one:\\n\\nWhat do you call a fake noodle?\\n\\nAn impasta!\\n\\nHope that made you laugh! Do you want to hear another one?\""
      ]
     },
     "execution_count": 7,
     "metadata": {},
     "output_type": "execute_result"
    }
   ],
   "source": [
    "chain = llm | output_parser\n",
    "chain.invoke(\"Tell me a joke\")"
   ]
  },
  {
   "cell_type": "markdown",
   "metadata": {},
   "source": [
    "### Structured Output\n",
    "\n",
    "However, we prefer a more structured output in real applications than a simple plain text output for futher manipulation\n"
   ]
  },
  {
   "cell_type": "code",
   "execution_count": 8,
   "metadata": {},
   "outputs": [
    {
     "data": {
      "text/plain": [
       "MobileReview(phone_model='Galaxy s21', rating=4.0, pros=['gorgeous screen', 'excellent camera', 'solid battery life'], cons=['expensive', 'no charger in the box', 'new button layout can be confusing'], summary='A solid phone with a few annoying quirks, great for those due for an upgrade')"
      ]
     },
     "execution_count": 8,
     "metadata": {},
     "output_type": "execute_result"
    }
   ],
   "source": [
    "from typing import List\n",
    "from pydantic import BaseModel, Field\n",
    "\n",
    "# Response structure expected from the LLMs\n",
    "class MobileReview(BaseModel):\n",
    "  phone_model: str = Field(description=\"Name and model of the phone\")\n",
    "  rating: float = Field(description=\"Overall rating out of 5\")\n",
    "  pros: List[str] = Field(description=\"List of positive aspects\")\n",
    "  cons: List[str] = Field(description=\"List of negative aspects\")\n",
    "  summary: str = Field(description=\"Brief Summary of review\")\n",
    "  \n",
    "review_text = \"\"\"\n",
    "Just got my hands on the new Galaxy s21 and wow this thing is slick!, The screen is gorgeous, colours pop like crazy. \n",
    "Camera's insane too, especially at night- my isnta game has never been better. battery life is solid, lasts me all day with no problems\n",
    "\n",
    "Not gonna lie though, it is expensive. And what is with the no charger in the box? Come on Samsung. Also still getting used to the new button layout,\n",
    "I keep hitting the bixby button on accident\n",
    "\n",
    "Overalll, I would say it is a solid 4 out of 5. Great phone, but a few annoying quirks keep it from being perfect. If you are due for an upgrade,\n",
    "definetly worth checking out\n",
    "\"\"\"\n",
    "  \n",
    "structured_response = llm.with_structured_output(MobileReview)\n",
    "response = structured_response.invoke(review_text)\n",
    "\n",
    "response\n"
   ]
  },
  {
   "cell_type": "markdown",
   "metadata": {},
   "source": [
    "### Prompt Template\n",
    "\n",
    "Allows us to use variables in our prompts to pass in later making them dynamic"
   ]
  },
  {
   "cell_type": "code",
   "execution_count": 9,
   "metadata": {},
   "outputs": [
    {
     "data": {
      "text/plain": [
       "ChatPromptValue(messages=[HumanMessage(content='Tell me a joke about programming', additional_kwargs={}, response_metadata={})])"
      ]
     },
     "execution_count": 9,
     "metadata": {},
     "output_type": "execute_result"
    }
   ],
   "source": [
    "from langchain_core.prompts import ChatPromptTemplate\n",
    "\n",
    "prompt = ChatPromptTemplate.from_template(\"Tell me a joke about {topic}\")\n",
    "prompt.invoke({\"topic\": \"programming\"})"
   ]
  },
  {
   "cell_type": "code",
   "execution_count": 10,
   "metadata": {},
   "outputs": [
    {
     "data": {
      "text/plain": [
       "'Why do programmers prefer dark mode?\\n\\nBecause light attracts bugs.'"
      ]
     },
     "execution_count": 10,
     "metadata": {},
     "output_type": "execute_result"
    }
   ],
   "source": [
    "chain = prompt | llm | output_parser\n",
    "chain.invoke({\"topic\": \"programming\"})"
   ]
  },
  {
   "cell_type": "markdown",
   "metadata": {},
   "source": [
    "### System Prompts\n",
    "\n",
    "Customises the LLMs behaviour to finetune its output on the prompt"
   ]
  },
  {
   "cell_type": "code",
   "execution_count": 11,
   "metadata": {},
   "outputs": [
    {
     "data": {
      "text/plain": [
       "AIMessage(content=\"Programming. Where the only thing more frustrating than the bugs is the fact that you can't squash them with a fly swatter.\\n\\nBut seriously, programming is the process of writing instructions that a computer can understand, in order to perform specific tasks. It involves designing, writing, testing, and maintaining the source code of computer programs.\\n\\nThere are many programming languages, each with its own strengths and weaknesses. Some popular ones include:\\n\\n* Python: Known for its simplicity and versatility, Python is a great language for beginners and experts alike. It's like the Swiss Army knife of programming languages – it can do just about anything.\\n* Java: A popular language for building large-scale applications, Java is known for its platform independence and robust security features. It's like the Toyota of programming languages – reliable, but not always the most exciting.\\n* JavaScript: Used primarily for web development, JavaScript is a versatile language that can be used for both front-end and back-end development. It's like the chameleon of programming languages – it can adapt to any situation.\\n\\nAs a programmer, you'll spend most of your time writing code, testing it, and debugging it. It's a bit like trying to solve a puzzle, except the puzzle is made up of 1s and 0s, and the solution is a working program.\\n\\nBut don't worry, programming isn't all work and no play. There are many jokes and memes that programmers enjoy, such as:\\n\\n* Why do programmers prefer dark mode? Because light attracts bugs.\\n* Why do programmers prefer coffee? Because it's the only thing that can keep them awake after a long night of coding.\\n* What do you call a programmer who doesn't like pizza? A rarity.\\n\\nSo, if you're interested in programming, don't be afraid to give it a try. With practice and patience, you can become a proficient programmer and join the ranks of the coding elite. And remember, when in doubt, just google it – or ask a programmer, we're always happy to help... or make a joke about it!\", additional_kwargs={}, response_metadata={'token_usage': {'completion_tokens': 416, 'prompt_tokens': 47, 'total_tokens': 463, 'completion_time': 1.5127272729999999, 'prompt_time': 0.004795014, 'queue_time': 0.045302254, 'total_time': 1.517522287}, 'model_name': 'llama-3.3-70b-versatile', 'system_fingerprint': 'fp_5d5eebccf4', 'finish_reason': 'stop', 'logprobs': None}, id='run-f7a7bbf6-7fb2-40cb-956d-bcb360291f1e-0', usage_metadata={'input_tokens': 47, 'output_tokens': 416, 'total_tokens': 463})"
      ]
     },
     "execution_count": 11,
     "metadata": {},
     "output_type": "execute_result"
    }
   ],
   "source": [
    "from langchain_core.messages import HumanMessage, SystemMessage\n",
    "\n",
    "system_message = SystemMessage(content=\"You are a helpful assistant that tells jokes\")\n",
    "human_message = HumanMessage(content=\"Tell me about programming\")\n",
    "llm.invoke([system_message, human_message])"
   ]
  },
  {
   "cell_type": "code",
   "execution_count": 12,
   "metadata": {},
   "outputs": [
    {
     "data": {
      "text/plain": [
       "'Why do programmers prefer dark mode?\\n\\nBecause light attracts bugs.'"
      ]
     },
     "execution_count": 12,
     "metadata": {},
     "output_type": "execute_result"
    }
   ],
   "source": [
    "# Adding system messages to the template\n",
    "template = ChatPromptTemplate([\n",
    "  (\"system\", \"You are a helpful assistant that tells jokes\"),\n",
    "  (\"human\", \"Tell me a joke about {topic}\")\n",
    "])\n",
    "\n",
    "chain = template | llm | output_parser\n",
    "chain.invoke({\"topic\": \"programming\"})"
   ]
  },
  {
   "cell_type": "markdown",
   "metadata": {},
   "source": [
    "### RAG Overview\n",
    "\n",
    "Two Main Components:\n",
    "\n",
    "\n",
    "1. Indexing: A pipeline for ingesting data from a source and indexing it. (Usually done offline)\n",
    "\n",
    "2. Retrieval and Generation: The actual RAG chain, which takes the user query **at run time** and retrives the relevant data from the index, and then passes it to the model"
   ]
  },
  {
   "cell_type": "markdown",
   "metadata": {},
   "source": [
    "#### Indexing\n",
    "\n",
    "1. Load: First we load the data using Document Loaders\n",
    "\n",
    "2. Split: Text splitters break large Documents into smaller chunks. This is useful for both indexing and passing it into a model, as large chunks are harder to search over and wont fit in a model's finite context window\n",
    "\n",
    "3. Store: Store and index the splits into a vector database or embeddings model\n"
   ]
  },
  {
   "cell_type": "code",
   "execution_count": 13,
   "metadata": {},
   "outputs": [
    {
     "name": "stdout",
     "output_type": "stream",
     "text": [
      "47\n"
     ]
    }
   ],
   "source": [
    "from langchain_community.document_loaders import PyPDFLoader\n",
    "from langchain_text_splitters import RecursiveCharacterTextSplitter\n",
    "from langchain_openai import OpenAIEmbeddings\n",
    "from typing import List\n",
    "from langchain_core.documents import Document\n",
    "\n",
    "# Define text splitter\n",
    "text_splitter = RecursiveCharacterTextSplitter(\n",
    "  chunk_size=1000, # size of each chunk\n",
    "  chunk_overlap=200, # overlap between chunks to minimise effects of bad split\n",
    "  length_function=len\n",
    ")\n",
    "\n",
    "# 1. Load Documents\n",
    "pdf_loader = PyPDFLoader(r\"docs\\M1-L2-Network Layer & Physical Resilience.pdf\")\n",
    "documents = pdf_loader.load()\n",
    "\n",
    "print(len(documents))"
   ]
  },
  {
   "cell_type": "code",
   "execution_count": 14,
   "metadata": {},
   "outputs": [
    {
     "data": {
      "text/plain": [
       "Document(metadata={'producer': 'Adobe PDF Services', 'creator': 'Microsoft® PowerPoint® 2019', 'creationdate': '2025-01-15T09:00:47+00:00', 'author': 'junluo@ntu.edu.sg', 'moddate': '2025-01-15T17:01:56+08:00', 'subject': 'CE3005@NTU', 'title': '02. Network Layer and Physical Resilience', 'source': 'docs\\\\M1-L2-Network Layer & Physical Resilience.pdf', 'total_pages': 47, 'page': 46, 'page_label': '47'}, page_content='Application Layer\\n• Application layer interacts with application programs \\nand is the highest level of OSI model\\n• Application layer contains management functions to \\nsupport distributed applications\\n• Examples of application layer are applications such \\nas file transfer, electronic mail, remote login etc\\n47')"
      ]
     },
     "execution_count": 14,
     "metadata": {},
     "output_type": "execute_result"
    }
   ],
   "source": [
    "documents[46]"
   ]
  },
  {
   "cell_type": "code",
   "execution_count": 15,
   "metadata": {},
   "outputs": [
    {
     "name": "stdout",
     "output_type": "stream",
     "text": [
      "total characters in this document: 309\n"
     ]
    }
   ],
   "source": [
    "print(f\"total characters in this document: {len(documents[46].page_content)}\")"
   ]
  },
  {
   "cell_type": "code",
   "execution_count": 16,
   "metadata": {},
   "outputs": [
    {
     "name": "stdout",
     "output_type": "stream",
     "text": [
      "Split document into 46 chunks\n"
     ]
    }
   ],
   "source": [
    "# 2. Split the Document into chunks\n",
    "chunks = text_splitter.split_documents(documents)\n",
    "\n",
    "print(f\"Split document into {len(chunks)} chunks\")"
   ]
  },
  {
   "cell_type": "code",
   "execution_count": 17,
   "metadata": {},
   "outputs": [
    {
     "name": "stdout",
     "output_type": "stream",
     "text": [
      "total characters in this chunk: 379\n"
     ]
    }
   ],
   "source": [
    "print(f\"total characters in this chunk: {len(chunks[0].page_content)}\")"
   ]
  },
  {
   "cell_type": "code",
   "execution_count": 18,
   "metadata": {},
   "outputs": [
    {
     "name": "stdout",
     "output_type": "stream",
     "text": [
      "Created embeddings for 46 document chunks\n"
     ]
    }
   ],
   "source": [
    "# 3. Embed Documents for Storage\n",
    "\n",
    "embeddings = OpenAIEmbeddings()\n",
    "\n",
    "document_embeddings = embeddings.embed_documents([chunk.page_content for chunk in chunks])\n",
    "print(f\"Created embeddings for {len(document_embeddings)} document chunks\")"
   ]
  },
  {
   "cell_type": "code",
   "execution_count": 19,
   "metadata": {},
   "outputs": [
    {
     "data": {
      "text/plain": [
       "[0.00861442182213068,\n",
       " -0.003327538026496768,\n",
       " -0.0010474962182343006,\n",
       " -0.005147886928170919,\n",
       " 0.007656519301235676,\n",
       " 0.00016118546773213893,\n",
       " -0.008125422522425652,\n",
       " 0.0057172696106135845,\n",
       " -0.01883651129901409,\n",
       " -0.02628537267446518,\n",
       " 0.016545584425330162,\n",
       " 0.02438296563923359,\n",
       " -0.01109290961176157,\n",
       " 0.03381462022662163,\n",
       " 0.019024072214961052,\n",
       " 0.0036708421539515257,\n",
       " 0.015004902146756649,\n",
       " -0.013223069719970226,\n",
       " 0.010161802172660828,\n",
       " -0.016826925799250603,\n",
       " -0.01694750040769577,\n",
       " 0.009177105501294136,\n",
       " -0.003108158241957426,\n",
       " -0.012044113129377365,\n",
       " 0.013531206175684929,\n",
       " 0.021971464157104492,\n",
       " 0.005720619112253189,\n",
       " -0.020631739869713783,\n",
       " 0.007884272374212742,\n",
       " -0.005191428121179342,\n",
       " 0.023538939654827118,\n",
       " -0.01827382668852806,\n",
       " 0.0007619676762260497,\n",
       " -0.004863196052610874,\n",
       " -0.000986371305771172,\n",
       " 0.00023675424745306373,\n",
       " 0.012740769423544407,\n",
       " -0.028509313240647316,\n",
       " 0.022212613373994827,\n",
       " -0.018032677471637726,\n",
       " 0.03228733316063881,\n",
       " 0.026352358981966972,\n",
       " -0.00913691334426403,\n",
       " -0.003228733316063881,\n",
       " -0.006159378215670586,\n",
       " 0.009076626040041447,\n",
       " -0.010644102469086647,\n",
       " 0.008132120594382286,\n",
       " -0.028134191408753395,\n",
       " 0.03247489407658577,\n",
       " -0.0038383074570447206,\n",
       " -0.0009118492598645389,\n",
       " -0.021569546312093735,\n",
       " -0.021958066150546074,\n",
       " -0.01732262410223484,\n",
       " 0.004823004361242056,\n",
       " -0.012091003358364105,\n",
       " 0.003081363858655095,\n",
       " 0.0006740483222529292,\n",
       " -0.026392551138997078,\n",
       " -0.017269033938646317,\n",
       " -0.01647859811782837,\n",
       " -0.024637512862682343,\n",
       " -0.0041229985654354095,\n",
       " -0.01103932037949562,\n",
       " 0.004384244792163372,\n",
       " -0.0008364897803403437,\n",
       " 0.02789304032921791,\n",
       " -0.0015649644192308187,\n",
       " -0.009351269342005253,\n",
       " -0.00010461355850566179,\n",
       " 0.02915238030254841,\n",
       " 0.014241259545087814,\n",
       " 0.003476582234725356,\n",
       " 0.017979087308049202,\n",
       " -0.016049886122345924,\n",
       " -0.0007305679027922451,\n",
       " -0.006534500978887081,\n",
       " 0.008842173963785172,\n",
       " 0.003690937999635935,\n",
       " 0.003938786685466766,\n",
       " -0.002434947295114398,\n",
       " -0.003295719623565674,\n",
       " 0.01113979984074831,\n",
       " 0.018715936690568924,\n",
       " -0.0022423621267080307,\n",
       " 0.020417384803295135,\n",
       " 0.008112025447189808,\n",
       " -0.005241667851805687,\n",
       " -0.03491319343447685,\n",
       " 0.0001104225157178007,\n",
       " 0.030706459656357765,\n",
       " 0.03496678173542023,\n",
       " 0.018983880057930946,\n",
       " -0.0053990851156413555,\n",
       " 0.007576135918498039,\n",
       " -0.023672912269830704,\n",
       " 0.014455615542829037,\n",
       " 0.0008180686272680759,\n",
       " -0.034993574023246765,\n",
       " 0.007053643465042114,\n",
       " -0.001009816536679864,\n",
       " -0.008795283734798431,\n",
       " -0.0009587395470589399,\n",
       " -0.01675993949174881,\n",
       " -0.014361835084855556,\n",
       " 0.015339832752943039,\n",
       " 0.007823985069990158,\n",
       " 0.009612515568733215,\n",
       " -0.0007640609983354807,\n",
       " -0.006383781787008047,\n",
       " 0.020926479250192642,\n",
       " -0.011347456835210323,\n",
       " -0.028160985559225082,\n",
       " 0.0017634108662605286,\n",
       " -0.021114040166139603,\n",
       " 0.019305413588881493,\n",
       " 0.003366054967045784,\n",
       " 0.017188651487231255,\n",
       " -0.016679557040333748,\n",
       " 0.018193444237113,\n",
       " 0.033948589116334915,\n",
       " 0.040432851761579514,\n",
       " 0.0004961162921972573,\n",
       " 0.04104912653565407,\n",
       " -0.02103365771472454,\n",
       " -0.013028809800744057,\n",
       " -0.008132120594382286,\n",
       " 0.006849335972219706,\n",
       " 0.012111099436879158,\n",
       " -0.015929311513900757,\n",
       " 0.009150310419499874,\n",
       " 0.001793554751202464,\n",
       " 0.004900038242340088,\n",
       " 0.0065981377847492695,\n",
       " -0.017979087308049202,\n",
       " -0.000951203634031117,\n",
       " 0.024918854236602783,\n",
       " -0.03228733316063881,\n",
       " -0.03282322362065315,\n",
       " 0.019184838980436325,\n",
       " 0.020591547712683678,\n",
       " -0.024155212566256523,\n",
       " -0.004913435783237219,\n",
       " 0.008688106201589108,\n",
       " 0.024302583187818527,\n",
       " 0.02597723715007305,\n",
       " 0.014294848777353764,\n",
       " 0.005486167501658201,\n",
       " 0.024329377338290215,\n",
       " 0.01560777798295021,\n",
       " 0.005312003195285797,\n",
       " -0.02293606474995613,\n",
       " 0.004538313020020723,\n",
       " 0.0033677297178655863,\n",
       " 0.01684032380580902,\n",
       " -0.01763075962662697,\n",
       " 0.014602985233068466,\n",
       " 0.003982327878475189,\n",
       " -0.002622508443892002,\n",
       " 0.005764159839600325,\n",
       " 0.004806257784366608,\n",
       " -0.006192871369421482,\n",
       " -0.008627818897366524,\n",
       " -0.015259449370205402,\n",
       " 0.008426859974861145,\n",
       " 0.005817749071866274,\n",
       " -0.00033576818532310426,\n",
       " -0.004233526065945625,\n",
       " 0.014335040003061295,\n",
       " -0.012017318978905678,\n",
       " 0.018876703456044197,\n",
       " -0.01998867280781269,\n",
       " 0.02140877954661846,\n",
       " 0.011521621607244015,\n",
       " 0.03579740971326828,\n",
       " 0.01771114394068718,\n",
       " -0.02274850383400917,\n",
       " -0.05969807505607605,\n",
       " -0.020444178953766823,\n",
       " -0.020337000489234924,\n",
       " 0.0031098329927772284,\n",
       " 0.024811677634716034,\n",
       " 0.004431135021150112,\n",
       " -0.014107286930084229,\n",
       " 0.007864176295697689,\n",
       " 0.006979959085583687,\n",
       " 0.018220238387584686,\n",
       " -0.0068024457432329655,\n",
       " 0.004481374751776457,\n",
       " 0.01638481765985489,\n",
       " 0.01905086636543274,\n",
       " 0.0021268108393996954,\n",
       " -0.01271397527307272,\n",
       " -0.6340643167495728,\n",
       " -0.01895708590745926,\n",
       " 0.014254656620323658,\n",
       " -0.024329377338290215,\n",
       " -0.01018189825117588,\n",
       " -0.002590690040960908,\n",
       " 0.005740714725106955,\n",
       " -0.00285696005448699,\n",
       " 0.015929311513900757,\n",
       " 0.04008452221751213,\n",
       " 0.007067041005939245,\n",
       " 0.002739734249189496,\n",
       " 0.0026760974433273077,\n",
       " -0.023003051057457924,\n",
       " -0.02666049636900425,\n",
       " -0.029929419979453087,\n",
       " -0.003962231799960136,\n",
       " -0.03065287135541439,\n",
       " 0.0026359057519584894,\n",
       " -0.005767509341239929,\n",
       " -0.01895708590745926,\n",
       " 0.027973424643278122,\n",
       " 0.001487092929892242,\n",
       " 0.003500027349218726,\n",
       " 0.006926369853317738,\n",
       " 0.0021167630329728127,\n",
       " 0.01989489234983921,\n",
       " 0.0009068252984434366,\n",
       " -0.005824447609484196,\n",
       " -0.005044058430939913,\n",
       " -0.02569589391350746,\n",
       " 0.012914933264255524,\n",
       " 0.01980111189186573,\n",
       " -0.010443143546581268,\n",
       " 0.027839452028274536,\n",
       " 0.004066060297191143,\n",
       " -0.030626077204942703,\n",
       " 0.013658479787409306,\n",
       " 0.0512310229241848,\n",
       " 0.032528482377529144,\n",
       " -0.01199052482843399,\n",
       " -0.014120684936642647,\n",
       " -0.008272792212665081,\n",
       " 0.022869078442454338,\n",
       " -0.022520750761032104,\n",
       " 0.012533112429082394,\n",
       " 0.011883346363902092,\n",
       " 0.02124801278114319,\n",
       " 0.013839342631399632,\n",
       " -0.012124496512115002,\n",
       " 0.0043038614094257355,\n",
       " -0.013852739706635475,\n",
       " -0.0288576427847147,\n",
       " 0.011977126821875572,\n",
       " 0.022226011380553246,\n",
       " 0.00791106652468443,\n",
       " 0.0354490801692009,\n",
       " -0.01619725674390793,\n",
       " 0.033278729766607285,\n",
       " -0.015487202443182468,\n",
       " 0.009290982037782669,\n",
       " -0.002036379650235176,\n",
       " -0.01712166517972946,\n",
       " -0.019653743132948875,\n",
       " -0.02266811951994896,\n",
       " 0.0014309920370578766,\n",
       " -0.012251770123839378,\n",
       " 0.01638481765985489,\n",
       " 0.020162837579846382,\n",
       " -0.007247903384268284,\n",
       " 0.008634516969323158,\n",
       " 0.037083543837070465,\n",
       " -0.0051545859314501286,\n",
       " -0.005934974644333124,\n",
       " 0.007736902683973312,\n",
       " 0.015661366283893585,\n",
       " -0.0035636641550809145,\n",
       " 0.017175253480672836,\n",
       " -0.029956215992569923,\n",
       " 0.003942136187106371,\n",
       " -0.011923538520932198,\n",
       " -0.019305413588881493,\n",
       " -0.009632611647248268,\n",
       " 0.0052081746980547905,\n",
       " 0.013785753399133682,\n",
       " -0.027651891112327576,\n",
       " -0.03009018674492836,\n",
       " -0.0008243485353887081,\n",
       " 0.004568456672132015,\n",
       " -0.003958882763981819,\n",
       " 0.038128528743982315,\n",
       " -0.0059751663357019424,\n",
       " -0.0051311408169567585,\n",
       " -0.02770547941327095,\n",
       " -0.005198126658797264,\n",
       " 0.025093019008636475,\n",
       " -0.011642196215689182,\n",
       " 0.0016805155901238322,\n",
       " -0.025548525154590607,\n",
       " -0.006367035210132599,\n",
       " -0.006012008525431156,\n",
       " 0.009692898951470852,\n",
       " 0.018581964075565338,\n",
       " -0.01855516992509365,\n",
       " 0.03788737580180168,\n",
       " -0.010222089476883411,\n",
       " 0.006132584065198898,\n",
       " 0.00957232341170311,\n",
       " 0.04158501327037811,\n",
       " -0.009853665716946125,\n",
       " 0.008386668749153614,\n",
       " -0.014268053695559502,\n",
       " -0.02722317911684513,\n",
       " 0.008868969045579433,\n",
       " -0.029286352917551994,\n",
       " -0.020417384803295135,\n",
       " 0.019292017444968224,\n",
       " 0.013852739706635475,\n",
       " 0.012586701661348343,\n",
       " -0.01241923589259386,\n",
       " 0.013135988265275955,\n",
       " -0.0026593508664518595,\n",
       " 0.02664709836244583,\n",
       " -0.020779110491275787,\n",
       " -0.018247032538056374,\n",
       " 0.03601176664233208,\n",
       " -0.02408822625875473,\n",
       " -0.023177213966846466,\n",
       " 0.009223995730280876,\n",
       " -0.0014527625171467662,\n",
       " -0.002069872571155429,\n",
       " -0.011099608615040779,\n",
       " 0.0327160470187664,\n",
       " -0.014080492779612541,\n",
       " 0.018193444237113,\n",
       " -0.007415369153022766,\n",
       " 0.021556150168180466,\n",
       " -0.008192408829927444,\n",
       " 0.001663769013248384,\n",
       " -0.02923276461660862,\n",
       " -0.0161034744232893,\n",
       " -0.01922503113746643,\n",
       " 0.004283765330910683,\n",
       " -0.018059471622109413,\n",
       " -0.02658011205494404,\n",
       " 0.0035100753884762526,\n",
       " -0.016612570732831955,\n",
       " -0.008768489584326744,\n",
       " 0.0014711837284266949,\n",
       " 0.017068076878786087,\n",
       " -0.022882476449012756,\n",
       " -0.004756018053740263,\n",
       " -0.010382856242358685,\n",
       " 0.026138003915548325,\n",
       " 0.011916839517652988,\n",
       " -0.01696089841425419,\n",
       " -0.0005258414312265813,\n",
       " -0.01637141965329647,\n",
       " -0.039093129336833954,\n",
       " -0.007154122926294804,\n",
       " -0.0027414090000092983,\n",
       " -0.01094553992152214,\n",
       " -0.00742876622825861,\n",
       " 0.009873761795461178,\n",
       " 0.021154232323169708,\n",
       " -0.006839287932962179,\n",
       " 0.020738918334245682,\n",
       " 0.009686199948191643,\n",
       " 0.01123358029872179,\n",
       " -0.017885306850075722,\n",
       " -0.027464330196380615,\n",
       " -0.004444532562047243,\n",
       " -0.030626077204942703,\n",
       " 0.016826925799250603,\n",
       " -0.009056529961526394,\n",
       " -0.026539919897913933,\n",
       " -0.0029842338990420103,\n",
       " -0.005593345034867525,\n",
       " 0.0016997740603983402,\n",
       " 0.000766991637647152,\n",
       " 0.002848586766049266,\n",
       " 0.01989489234983921,\n",
       " -0.006387131288647652,\n",
       " 0.005951721221208572,\n",
       " 0.03351987898349762,\n",
       " 0.0287504643201828,\n",
       " 0.04324627295136452,\n",
       " 0.007442163303494453,\n",
       " -0.011782866902649403,\n",
       " 0.01839440129697323,\n",
       " 0.009177105501294136,\n",
       " 0.03303758054971695,\n",
       " -0.030894020572304726,\n",
       " -0.007844080217182636,\n",
       " -0.015741750597953796,\n",
       " 0.026874851435422897,\n",
       " -0.007864176295697689,\n",
       " -0.029205970466136932,\n",
       " 0.006571343168616295,\n",
       " 0.010282376781105995,\n",
       " 0.0213283970952034,\n",
       " -0.02457052655518055,\n",
       " 0.04254961386322975,\n",
       " 0.00613928260281682,\n",
       " 0.01465657353401184,\n",
       " -0.026995426043868065,\n",
       " 0.003690937999635935,\n",
       " -0.0046220459043979645,\n",
       " 0.0217972993850708,\n",
       " 0.021931272000074387,\n",
       " 0.020913083106279373,\n",
       " -0.024061432108283043,\n",
       " -0.019010674208402634,\n",
       " -0.018796319141983986,\n",
       " 0.01609007827937603,\n",
       " 0.012365646660327911,\n",
       " -0.023565733805298805,\n",
       " 0.008862270042300224,\n",
       " -0.051284611225128174,\n",
       " 0.009679501876235008,\n",
       " -0.0021083897445350885,\n",
       " 0.0023897315841168165,\n",
       " 0.018407799303531647,\n",
       " 0.0039052937645465136,\n",
       " -0.037190720438957214,\n",
       " 0.026901645585894585,\n",
       " 0.016250845044851303,\n",
       " 0.03373423591256142,\n",
       " 0.0053220512345433235,\n",
       " -0.02722317911684513,\n",
       " 0.0035804107319563627,\n",
       " 0.0032002641819417477,\n",
       " 0.019452784210443497,\n",
       " -0.005566550884395838,\n",
       " -0.0029172475915402174,\n",
       " -0.027678685262799263,\n",
       " 0.0008775188471190631,\n",
       " -0.022534146904945374,\n",
       " 0.03933427855372429,\n",
       " 0.01162210013717413,\n",
       " 0.032340921461582184,\n",
       " 0.023110227659344673,\n",
       " 0.031376320868730545,\n",
       " -0.006085693370550871,\n",
       " 0.007073739543557167,\n",
       " 0.010289075784385204,\n",
       " -0.002121786819770932,\n",
       " 0.03094761073589325,\n",
       " -0.03209977224469185,\n",
       " -0.0007401971961371601,\n",
       " 0.015179065987467766,\n",
       " 0.008473750203847885,\n",
       " -0.0048364014364778996,\n",
       " -0.026620304211974144,\n",
       " 0.010838362388312817,\n",
       " -0.026834659278392792,\n",
       " -0.009465145878493786,\n",
       " 0.022025052458047867,\n",
       " 0.009552228264510632,\n",
       " 0.0077302041463553905,\n",
       " 0.014629779383540154,\n",
       " -0.008306285366415977,\n",
       " 0.011869949288666248,\n",
       " -0.0061895218677818775,\n",
       " 0.001738291117362678,\n",
       " -0.024583924561738968,\n",
       " -0.008621119894087315,\n",
       " 0.011890045367181301,\n",
       " -0.018046073615550995,\n",
       " 0.0064306724816560745,\n",
       " 0.007623026147484779,\n",
       " 0.00016997740021906793,\n",
       " 0.005345496349036694,\n",
       " -0.012834549881517887,\n",
       " 0.019077660515904427,\n",
       " 0.014870929531753063,\n",
       " 0.02600403130054474,\n",
       " -0.03258207440376282,\n",
       " 0.01712166517972946,\n",
       " 0.03057248704135418,\n",
       " -0.024329377338290215,\n",
       " -0.008487147279083729,\n",
       " 0.0004889990668743849,\n",
       " 0.03373423591256142,\n",
       " -0.000880868115928024,\n",
       " -0.014924518764019012,\n",
       " -0.013658479787409306,\n",
       " 0.0013648432213813066,\n",
       " -0.01867574453353882,\n",
       " -0.01090534869581461,\n",
       " -0.00846705213189125,\n",
       " 0.012251770123839378,\n",
       " -0.002024657092988491,\n",
       " -0.023016447201371193,\n",
       " -0.012198181822896004,\n",
       " -0.002051451476290822,\n",
       " 0.02341836504638195,\n",
       " -0.0069397673942148685,\n",
       " -0.009552228264510632,\n",
       " -0.004611997865140438,\n",
       " -0.008145518600940704,\n",
       " 0.001557428389787674,\n",
       " -0.01133405975997448,\n",
       " -0.022400174289941788,\n",
       " 0.048792727291584015,\n",
       " 0.006343590095639229,\n",
       " -0.028964819386601448,\n",
       " 0.004015821032226086,\n",
       " 0.014174273237586021,\n",
       " -0.026915043592453003,\n",
       " 0.00618617283180356,\n",
       " 0.0006702803657390177,\n",
       " -0.011695785447955132,\n",
       " 0.000642229919321835,\n",
       " 0.01276086550205946,\n",
       " -0.001444389228709042,\n",
       " 0.01142784021794796,\n",
       " 0.014053698629140854,\n",
       " 0.020015466958284378,\n",
       " -0.02047097310423851,\n",
       " -0.012640289962291718,\n",
       " -0.030545692890882492,\n",
       " -0.032903607934713364,\n",
       " -0.011313963681459427,\n",
       " 0.022708311676979065,\n",
       " 0.01600969396531582,\n",
       " 0.01309579610824585,\n",
       " 0.026446139439940453,\n",
       " -0.00861442182213068,\n",
       " -0.023364776745438576,\n",
       " 0.00018661927606444806,\n",
       " -0.005265112966299057,\n",
       " 0.01148142945021391,\n",
       " -0.02245376445353031,\n",
       " 0.002198820933699608,\n",
       " 0.01588911935687065,\n",
       " 0.012104400433599949,\n",
       " -0.0013799150474369526,\n",
       " 0.010871855542063713,\n",
       " -0.0017768081743270159,\n",
       " -0.0010667548049241304,\n",
       " -0.010088116861879826,\n",
       " 0.034993574023246765,\n",
       " -0.00019928385154344141,\n",
       " 0.006886178161948919,\n",
       " -0.0319925956428051,\n",
       " 0.014790546149015427,\n",
       " 0.018193444237113,\n",
       " 0.018689140677452087,\n",
       " -0.0069397673942148685,\n",
       " 0.011695785447955132,\n",
       " 0.007294794078916311,\n",
       " 0.026057619601488113,\n",
       " -0.022051846608519554,\n",
       " -0.017831718549132347,\n",
       " 0.029929419979453087,\n",
       " 0.022627927362918854,\n",
       " 0.01752358116209507,\n",
       " -0.03839647397398949,\n",
       " 0.048712342977523804,\n",
       " 0.013276658952236176,\n",
       " 0.022775297984480858,\n",
       " 0.014683368615806103,\n",
       " -0.008212503977119923,\n",
       " 0.01314268633723259,\n",
       " -0.003828259650617838,\n",
       " 0.014000109396874905,\n",
       " -0.023967651650309563,\n",
       " 0.007656519301235676,\n",
       " -0.0015549164963886142,\n",
       " 0.0019057565368711948,\n",
       " 0.02010924741625786,\n",
       " 0.0012442681472748518,\n",
       " -0.022681517526507378,\n",
       " 0.019117852672934532,\n",
       " 0.015259449370205402,\n",
       " -0.019734125584363937,\n",
       " -0.02028341218829155,\n",
       " -0.0025002588517963886,\n",
       " -0.009451748803257942,\n",
       " 0.007629724685102701,\n",
       " 0.001322976895608008,\n",
       " -0.0033292125444859266,\n",
       " -0.044398434460163116,\n",
       " -0.03121555596590042,\n",
       " -0.005157934967428446,\n",
       " 0.02047097310423851,\n",
       " -0.017376212403178215,\n",
       " -0.029929419979453087,\n",
       " -0.009679501876235008,\n",
       " -0.005100996699184179,\n",
       " 0.016786733642220497,\n",
       " -0.03767302259802818,\n",
       " -0.01275416649878025,\n",
       " -0.01290823519229889,\n",
       " -0.0327160470187664,\n",
       " -0.011936935596168041,\n",
       " 0.039280690252780914,\n",
       " 0.03539549186825752,\n",
       " 0.010161802172660828,\n",
       " 0.02341836504638195,\n",
       " 0.0048665450885891914,\n",
       " -0.026915043592453003,\n",
       " 0.025119813159108162,\n",
       " -0.006979959085583687,\n",
       " -0.0076163276098668575,\n",
       " 0.005305304657667875,\n",
       " -0.022775297984480858,\n",
       " 0.0034665341954678297,\n",
       " 0.014870929531753063,\n",
       " 0.0122316749766469,\n",
       " -0.006263206712901592,\n",
       " 0.01960015296936035,\n",
       " 0.0026158099062740803,\n",
       " -0.004782812669873238,\n",
       " -0.03191221132874489,\n",
       " 0.00947854295372963,\n",
       " -0.0032940448727458715,\n",
       " -0.01413408201187849,\n",
       " 0.01933220773935318,\n",
       " -0.014308245852589607,\n",
       " 0.01343072671443224,\n",
       " 0.015781940892338753,\n",
       " -0.015554188750684261,\n",
       " 0.018876703456044197,\n",
       " -0.0361725315451622,\n",
       " -0.009304379113018513,\n",
       " -0.00535554438829422,\n",
       " -0.008112025447189808,\n",
       " -0.0023746597580611706,\n",
       " -0.0025220292154699564,\n",
       " 0.003429692005738616,\n",
       " -0.011133101768791676,\n",
       " 0.013758959248661995,\n",
       " 0.028884436935186386,\n",
       " -0.028589697554707527,\n",
       " 0.01599629782140255,\n",
       " 0.020403986796736717,\n",
       " 0.0008050900069065392,\n",
       " 0.04083476960659027,\n",
       " 0.029071997851133347,\n",
       " 0.01875612698495388,\n",
       " -0.007984751835465431,\n",
       " -0.022011656314134598,\n",
       " 0.02037719264626503,\n",
       " -0.028027012944221497,\n",
       " 0.003476582234725356,\n",
       " -0.011447936296463013,\n",
       " -0.02912558615207672,\n",
       " 0.0273437537252903,\n",
       " -0.02114083431661129,\n",
       " -0.004648840054869652,\n",
       " -0.011387648992240429,\n",
       " 0.004206731449812651,\n",
       " 0.005948371719568968,\n",
       " 0.027008824050426483,\n",
       " 0.003175144549459219,\n",
       " -0.038128528743982315,\n",
       " -0.0014803943922743201,\n",
       " 0.009203899651765823,\n",
       " -0.0019057565368711948,\n",
       " 0.010135007090866566,\n",
       " -0.03038492612540722,\n",
       " -0.022694913670420647,\n",
       " -0.015594379976391792,\n",
       " -0.008567530661821365,\n",
       " 0.031456705182790756,\n",
       " -0.018796319141983986,\n",
       " 0.02018963173031807,\n",
       " -0.028241369873285294,\n",
       " -0.04343383386731148,\n",
       " -0.0007498264312744141,\n",
       " -0.009806775487959385,\n",
       " 0.020980067551136017,\n",
       " -0.00033283751690760255,\n",
       " 0.01065749954432249,\n",
       " -0.015674764290452003,\n",
       " -0.008065135218203068,\n",
       " -0.0062330630607903,\n",
       " -0.029768653213977814,\n",
       " -0.009773282334208488,\n",
       " -0.03076004981994629,\n",
       " 0.026995426043868065,\n",
       " 0.035556260496377945,\n",
       " 0.025293977931141853,\n",
       " -0.017670951783657074,\n",
       " 0.023592529818415642,\n",
       " 0.015313038602471352,\n",
       " 0.005318701732903719,\n",
       " 0.010912046767771244,\n",
       " 0.015165668912231922,\n",
       " -0.02217242307960987,\n",
       " -0.034725628793239594,\n",
       " 0.011514922603964806,\n",
       " 0.01818004623055458,\n",
       " -0.02191787399351597,\n",
       " 0.029875831678509712,\n",
       " 0.018970483914017677,\n",
       " 0.006058899220079184,\n",
       " 0.018488183617591858,\n",
       " 0.023739898577332497,\n",
       " -0.0219044778496027,\n",
       " -0.011374251917004585,\n",
       " -0.040432851761579514,\n",
       " 0.0047225248999893665,\n",
       " 0.006092391908168793,\n",
       " -0.004950277972966433,\n",
       " 0.017644157633185387,\n",
       " -0.03274283930659294,\n",
       " 0.0029155730735510588,\n",
       " -0.0012744119158014655,\n",
       " -0.00430721091106534,\n",
       " 0.0013522832887247205,\n",
       " -0.02578967623412609,\n",
       " 0.025253785774111748,\n",
       " -0.008761790581047535,\n",
       " 0.019372399896383286,\n",
       " 0.003339260583743453,\n",
       " 0.005680427420884371,\n",
       " -0.023940857499837875,\n",
       " -0.003965581301599741,\n",
       " -0.029688270762562752,\n",
       " -0.007790491450577974,\n",
       " 0.009404858574271202,\n",
       " -0.01953316666185856,\n",
       " 0.020591547712683678,\n",
       " -0.03266245499253273,\n",
       " 0.018541771918535233,\n",
       " -0.02686145342886448,\n",
       " -0.011501525528728962,\n",
       " -0.007167520001530647,\n",
       " -0.01913125067949295,\n",
       " 0.002173701301217079,\n",
       " -0.005288558080792427,\n",
       " 0.003424667986109853,\n",
       " -0.012734070420265198,\n",
       " -0.023914063349366188,\n",
       " -0.005358893424272537,\n",
       " 0.03676201030611992,\n",
       " 0.00011220183660043404,\n",
       " -0.01471016276627779,\n",
       " 0.015956105664372444,\n",
       " -0.021837491542100906,\n",
       " -0.019198236986994743,\n",
       " 0.011501525528728962,\n",
       " -0.005707221571356058,\n",
       " 0.015339832752943039,\n",
       " -0.0068794796243309975,\n",
       " 0.0352347269654274,\n",
       " 0.04753338545560837,\n",
       " -0.013618288561701775,\n",
       " -0.02826816402375698,\n",
       " -0.00267777219414711,\n",
       " 0.009277584962546825,\n",
       " 0.002610785886645317,\n",
       " 0.02416861057281494,\n",
       " 0.021502560004591942,\n",
       " -0.02379348687827587,\n",
       " -0.0027966725174337626,\n",
       " 0.005245016887784004,\n",
       " -0.007837382145226002,\n",
       " 0.005201476160436869,\n",
       " -0.018407799303531647,\n",
       " -0.000465972552774474,\n",
       " 0.03151029348373413,\n",
       " 0.009244091808795929,\n",
       " -0.015366626903414726,\n",
       " -0.006872781086713076,\n",
       " -0.022105436772108078,\n",
       " 0.0024165259674191475,\n",
       " -0.001487930305302143,\n",
       " -0.001729917828924954,\n",
       " -0.0031885416246950626,\n",
       " 0.01266038604080677,\n",
       " 0.00459525128826499,\n",
       " 0.018729332834482193,\n",
       " -0.012312058359384537,\n",
       " 0.020243220031261444,\n",
       " -0.006517754402011633,\n",
       " -0.02438296563923359,\n",
       " 0.023967651650309563,\n",
       " -0.008353175595402718,\n",
       " -0.015781940892338753,\n",
       " -0.007884272374212742,\n",
       " -0.0066885692067444324,\n",
       " 0.04437163844704628,\n",
       " -0.012499619275331497,\n",
       " -0.010027829557657242,\n",
       " 0.014669971540570259,\n",
       " 0.01114649884402752,\n",
       " -0.0009403183357790112,\n",
       " -0.011695785447955132,\n",
       " -0.0008699828758835793,\n",
       " 0.03113517165184021,\n",
       " -0.006732109934091568,\n",
       " -0.006849335972219706,\n",
       " 0.007087136618793011,\n",
       " 0.007884272374212742,\n",
       " 0.029447119683027267,\n",
       " -0.0017198699060827494,\n",
       " 0.008889065124094486,\n",
       " -0.04091515392065048,\n",
       " -0.01627763919532299,\n",
       " -0.028428930789232254,\n",
       " 0.009317776188254356,\n",
       " 0.04351421445608139,\n",
       " -0.003205288201570511,\n",
       " -0.017295829951763153,\n",
       " -0.012104400433599949,\n",
       " -0.04809606820344925,\n",
       " -0.0090967221185565,\n",
       " 0.005871337838470936,\n",
       " -0.001902407268062234,\n",
       " -0.023833679035305977,\n",
       " -0.0057172696106135845,\n",
       " -0.010818266309797764,\n",
       " -0.0029172475915402174,\n",
       " 0.012928330339491367,\n",
       " 0.00044378338498063385,\n",
       " 0.00919050257652998,\n",
       " -0.004360799677670002,\n",
       " 0.024985840544104576,\n",
       " -0.015058491379022598,\n",
       " 0.01838100515305996,\n",
       " 0.03705674782395363,\n",
       " 0.017778130248188972,\n",
       " -0.006142631638795137,\n",
       " 0.042790766805410385,\n",
       " -0.042603202164173126,\n",
       " -0.0007724342867732048,\n",
       " 0.022735105827450752,\n",
       " 0.013658479787409306,\n",
       " -0.03968260809779167,\n",
       " -0.027263371273875237,\n",
       " -0.0015750123420730233,\n",
       " 0.008225901983678341,\n",
       " -0.02789304032921791,\n",
       " 0.002590690040960908,\n",
       " 0.04563098028302193,\n",
       " -0.0002786206023301929,\n",
       " -0.004340703599154949,\n",
       " -0.004692381247878075,\n",
       " -0.017536979168653488,\n",
       " 0.012720673345029354,\n",
       " -0.03392179682850838,\n",
       " -0.0229494608938694,\n",
       " -0.0005333774024620652,\n",
       " 0.002439971314743161,\n",
       " 0.05053436756134033,\n",
       " -0.0022339888382703066,\n",
       " 1.4404643479792867e-05,\n",
       " -0.005734016187489033,\n",
       " -0.013564699329435825,\n",
       " -0.002161978743970394,\n",
       " -0.009806775487959385,\n",
       " 0.013156083412468433,\n",
       " 0.0036741914227604866,\n",
       " -0.006216316483914852,\n",
       " 0.015420216135680676,\n",
       " -0.02104705385863781,\n",
       " -0.007823985069990158,\n",
       " -9.676361514721066e-05,\n",
       " -0.019198236986994743,\n",
       " 0.004297162871807814,\n",
       " 0.011173292994499207,\n",
       " 0.00016359279106836766,\n",
       " 0.029741859063506126,\n",
       " 0.019010674208402634,\n",
       " -0.013109193183481693,\n",
       " -0.00098218466155231,\n",
       " -0.01741640456020832,\n",
       " -0.04305870831012726,\n",
       " -0.036038558930158615,\n",
       " -0.023083433508872986,\n",
       " -0.015647970139980316,\n",
       " 0.043567806482315063,\n",
       " 0.01148142945021391,\n",
       " 0.021636532619595528,\n",
       " -0.025280579924583435,\n",
       " -0.016706351190805435,\n",
       " -0.03161747381091118,\n",
       " -0.041558220982551575,\n",
       " 0.0026241831947118044,\n",
       " -0.014093889854848385,\n",
       " -0.00866131205111742,\n",
       " 0.03121555596590042,\n",
       " 0.0106641985476017,\n",
       " -0.021542752161622047,\n",
       " -0.014576190151274204,\n",
       " 0.0029691620729863644,\n",
       " -0.026499729603528976,\n",
       " 0.015232655219733715,\n",
       " -0.01119338907301426,\n",
       " -0.0071876160800457,\n",
       " 0.0055263591930270195,\n",
       " -0.015246052294969559,\n",
       " -0.0244633499532938,\n",
       " -0.016063284128904343,\n",
       " 0.015339832752943039,\n",
       " 0.0017784828087314963,\n",
       " 0.0025421250611543655,\n",
       " 0.01638481765985489,\n",
       " 0.0012358948588371277,\n",
       " -0.0045852032490074635,\n",
       " -0.009753186255693436,\n",
       " -0.0061124879866838455,\n",
       " -0.0050407093949615955,\n",
       " -0.010670896619558334,\n",
       " 0.0052852085791528225,\n",
       " -0.023579131811857224,\n",
       " 0.014509204775094986,\n",
       " 0.00620961794629693,\n",
       " -0.006655076052993536,\n",
       " -0.026298770681023598,\n",
       " -0.009967542253434658,\n",
       " 0.021114040166139603,\n",
       " 0.00533209927380085,\n",
       " 0.02352554351091385,\n",
       " -0.007562738377600908,\n",
       " -0.0019526468822732568,\n",
       " 0.005707221571356058,\n",
       " -0.01864895038306713,\n",
       " 0.0009344570571556687,\n",
       " 0.0004104996332898736,\n",
       " -0.011005828157067299,\n",
       " 0.03836967796087265,\n",
       " 0.030626077204942703,\n",
       " 0.0034665341954678297,\n",
       " 0.008212503977119923,\n",
       " -0.0033878255635499954,\n",
       " -0.017590567469596863,\n",
       " 0.00019719054398592561,\n",
       " 0.024409759789705276,\n",
       " 0.0021201123017817736,\n",
       " 0.007703409530222416,\n",
       " 0.0069933561608195305,\n",
       " -0.00795795675367117,\n",
       " -0.01827382668852806,\n",
       " -0.016639364883303642,\n",
       " -0.012559906579554081,\n",
       " -0.027866246178746223,\n",
       " -0.017751334235072136,\n",
       " 0.004478025250136852,\n",
       " 0.00061041145818308,\n",
       " -0.005901481490582228,\n",
       " 0.004397641867399216,\n",
       " -0.014495806768536568,\n",
       " -0.016974294558167458,\n",
       " 0.011896743439137936,\n",
       " -0.014308245852589607,\n",
       " 0.02048437111079693,\n",
       " -0.0212212186306715,\n",
       " -0.009163708426058292,\n",
       " 0.009110119193792343,\n",
       " -0.012633591890335083,\n",
       " 0.01972072757780552,\n",
       " -0.028134191408753395,\n",
       " 0.014669971540570259,\n",
       " -0.0005471932818181813,\n",
       " -0.01665276102721691,\n",
       " 0.19034789502620697,\n",
       " -0.00613928260281682,\n",
       " 0.0026794467121362686,\n",
       " 0.01665276102721691,\n",
       " -0.018206840381026268,\n",
       " -0.002314372221007943,\n",
       " 0.017845116555690765,\n",
       " 0.0006874455721117556,\n",
       " 0.007850779220461845,\n",
       " 0.043273065239191055,\n",
       " -0.029473913833498955,\n",
       " -0.0020095850341022015,\n",
       " -0.03780699521303177,\n",
       " -0.007756998296827078,\n",
       " 0.0031098329927772284,\n",
       " 0.01629103720188141,\n",
       " -0.039655812084674835,\n",
       " -0.018608758226037025,\n",
       " -0.017925499007105827,\n",
       " 0.00890246219933033,\n",
       " -0.015246052294969559,\n",
       " 0.0007762022432871163,\n",
       " -0.004153142683207989,\n",
       " -0.030626077204942703,\n",
       " 0.01343072671443224,\n",
       " 0.017483390867710114,\n",
       " 0.00032237093546427786,\n",
       " -0.0008105326560325921,\n",
       " 0.02808060310781002,\n",
       " 0.01133405975997448,\n",
       " -0.032501690089702606,\n",
       " -0.007823985069990158,\n",
       " 0.0006501845200546086,\n",
       " 0.004126348067075014,\n",
       " 0.006933068390935659,\n",
       " 0.011816360056400299,\n",
       " 0.024302583187818527,\n",
       " -0.007777094375342131,\n",
       " 0.02238677814602852,\n",
       " 0.004193334374576807,\n",
       " 0.008935955353081226,\n",
       " -0.009840268641710281,\n",
       " -0.0005940835690125823,\n",
       " -0.016170460730791092,\n",
       " -0.00805173721164465,\n",
       " 0.003727780422195792,\n",
       " ...]"
      ]
     },
     "execution_count": 19,
     "metadata": {},
     "output_type": "execute_result"
    }
   ],
   "source": [
    "document_embeddings[0]"
   ]
  },
  {
   "cell_type": "markdown",
   "metadata": {},
   "source": [
    "### Create Chroma Vector DB"
   ]
  },
  {
   "cell_type": "code",
   "execution_count": 20,
   "metadata": {},
   "outputs": [],
   "source": [
    "from langchain_chroma import Chroma\n",
    "\n",
    "vector_store = Chroma.from_documents(collection_name=\"my_collection\", documents=chunks, embedding=embeddings)"
   ]
  },
  {
   "cell_type": "markdown",
   "metadata": {},
   "source": [
    "#### Perform a Similarity Search in the DB for a Query"
   ]
  },
  {
   "cell_type": "code",
   "execution_count": 21,
   "metadata": {},
   "outputs": [
    {
     "name": "stdout",
     "output_type": "stream",
     "text": [
      "\n",
      "Top 2 most relvant chunks for this query: 'What are the benefits of a layered approach'\n",
      "\n",
      "Result 1:\n",
      "Source: docs\\M1-L2-Network Layer & Physical Resilience.pdf\n",
      "Content: Benefits of Layers\n",
      "• Simplicity\n",
      "– Easy to design once layers and their interactions are \n",
      "defined clearly\n",
      "• Flexibility\n",
      "– Easy to modify and develop networks by separate \n",
      "layers modifications\n",
      "• Incremental Changes\n",
      "– Easy to add news layers, add new functions to a layer\n",
      "9\n",
      "\n",
      "Result 2:\n",
      "Source: docs\\M1-L2-Network Layer & Physical Resilience.pdf\n",
      "Content: Layered Network Architecture\n",
      "\n"
     ]
    }
   ],
   "source": [
    "query = \"What are the benefits of a layered approach\"\n",
    "search_results = vector_store.similarity_search(query, k=2)\n",
    "\n",
    "print(f\"\\nTop 2 most relvant chunks for this query: '{query}'\\n\")\n",
    "for i, result in enumerate(search_results, 1):\n",
    "  print(f\"Result {i}:\")\n",
    "  print(f\"Source: {result.metadata.get('source', 'Unknown')}\")\n",
    "  print(f\"Content: {result.page_content}\")\n",
    "  print()  "
   ]
  },
  {
   "cell_type": "markdown",
   "metadata": {},
   "source": [
    "#### Modifying the Vector Store retrieval so it can be added to the chain"
   ]
  },
  {
   "cell_type": "code",
   "execution_count": 22,
   "metadata": {},
   "outputs": [
    {
     "data": {
      "text/plain": [
       "[Document(id='348c7535-5d3c-4f74-b61c-f2e01ce26c33', metadata={'author': 'junluo@ntu.edu.sg', 'creationdate': '2025-01-15T09:00:47+00:00', 'creator': 'Microsoft® PowerPoint® 2019', 'moddate': '2025-01-15T17:01:56+08:00', 'page': 17, 'page_label': '18', 'producer': 'Adobe PDF Services', 'source': 'docs\\\\M1-L2-Network Layer & Physical Resilience.pdf', 'subject': 'CE3005@NTU', 'title': '02. Network Layer and Physical Resilience', 'total_pages': 47}, page_content='OSI Model in a Nutshell\\n18'),\n",
       " Document(id='de320ff0-9bcd-49de-ac0e-40029639701d', metadata={'author': 'junluo@ntu.edu.sg', 'creationdate': '2025-01-15T09:00:47+00:00', 'creator': 'Microsoft® PowerPoint® 2019', 'moddate': '2025-01-15T17:01:56+08:00', 'page': 10, 'page_label': '11', 'producer': 'Adobe PDF Services', 'source': 'docs\\\\M1-L2-Network Layer & Physical Resilience.pdf', 'subject': 'CE3005@NTU', 'title': '02. Network Layer and Physical Resilience', 'total_pages': 47}, page_content='OSI Reference Model: 7 Layers \\n(More on Supplementary Materials)\\n11\\nOSI Model\\nData unit Layer Function\\nHost\\nlayers\\nData\\n7. Application Network process to application\\n6. Presentation\\nData representation, encryption and \\ndecryption, convert machine dependent \\ndata to machine independent data\\n5. Session Inter-host communication, managing \\nsessions between applications\\nSegment 4. Transport End-to-end connections, reliability \\nand flow control\\nMedia\\nlayers\\nPacket 3. Network Path determination and logical \\naddressing\\nFrame 2. Data link Physical addressing\\nBit 1. Physical Media, signal and binary transmission')]"
      ]
     },
     "execution_count": 22,
     "metadata": {},
     "output_type": "execute_result"
    }
   ],
   "source": [
    "retriever = vector_store.as_retriever(search_kwargs={\"k\": 2})\n",
    "retriever.invoke(\"OSI layer Model\")"
   ]
  },
  {
   "cell_type": "markdown",
   "metadata": {},
   "source": [
    "#### Adding the retriever to the chain"
   ]
  },
  {
   "cell_type": "code",
   "execution_count": 23,
   "metadata": {},
   "outputs": [],
   "source": [
    "template = \"\"\"\n",
    "Answer the question based only on the following context:\n",
    "{context}\n",
    "\n",
    "Question: {question}\n",
    "\n",
    "Answer:\n",
    "\"\"\"\n",
    "\n",
    "prompt = ChatPromptTemplate.from_template(template)"
   ]
  },
  {
   "cell_type": "markdown",
   "metadata": {},
   "source": [
    "##### Runnable Pass Through lets us pass the input to the invoke as the question"
   ]
  },
  {
   "cell_type": "code",
   "execution_count": 24,
   "metadata": {},
   "outputs": [
    {
     "data": {
      "text/plain": [
       "ChatPromptValue(messages=[HumanMessage(content=\"\\nAnswer the question based only on the following context:\\n[Document(id='de320ff0-9bcd-49de-ac0e-40029639701d', metadata={'author': 'junluo@ntu.edu.sg', 'creationdate': '2025-01-15T09:00:47+00:00', 'creator': 'Microsoft® PowerPoint® 2019', 'moddate': '2025-01-15T17:01:56+08:00', 'page': 10, 'page_label': '11', 'producer': 'Adobe PDF Services', 'source': 'docs\\\\\\\\M1-L2-Network Layer & Physical Resilience.pdf', 'subject': 'CE3005@NTU', 'title': '02. Network Layer and Physical Resilience', 'total_pages': 47}, page_content='OSI Reference Model: 7 Layers \\\\n(More on Supplementary Materials)\\\\n11\\\\nOSI Model\\\\nData unit Layer Function\\\\nHost\\\\nlayers\\\\nData\\\\n7. Application Network process to application\\\\n6. Presentation\\\\nData representation, encryption and \\\\ndecryption, convert machine dependent \\\\ndata to machine independent data\\\\n5. Session Inter-host communication, managing \\\\nsessions between applications\\\\nSegment 4. Transport End-to-end connections, reliability \\\\nand flow control\\\\nMedia\\\\nlayers\\\\nPacket 3. Network Path determination and logical \\\\naddressing\\\\nFrame 2. Data link Physical addressing\\\\nBit 1. Physical Media, signal and binary transmission'), Document(id='7b36816b-2c7b-413c-adae-8ae0d25d9ffc', metadata={'author': 'junluo@ntu.edu.sg', 'creationdate': '2025-01-15T09:00:47+00:00', 'creator': 'Microsoft® PowerPoint® 2019', 'moddate': '2025-01-15T17:01:56+08:00', 'page': 9, 'page_label': '10', 'producer': 'Adobe PDF Services', 'source': 'docs\\\\\\\\M1-L2-Network Layer & Physical Resilience.pdf', 'subject': 'CE3005@NTU', 'title': '02. Network Layer and Physical Resilience', 'total_pages': 47}, page_content='OSI 7-Layer Model\\\\n• Function Decomposition\\\\n– Weakly-decoupled stack\\\\n• Encapsulation\\\\n– Each layer adding new \\\\nheaders\\\\n• Peering\\\\n– Only peer layer \\\\ncommunicating with each \\\\nother\\\\n10')]\\n\\nQuestion: Explain the OSI Layer Model\\n\\nAnswer:\\n\", additional_kwargs={}, response_metadata={})])"
      ]
     },
     "execution_count": 24,
     "metadata": {},
     "output_type": "execute_result"
    }
   ],
   "source": [
    "from langchain.schema.runnable import RunnablePassthrough\n",
    "\n",
    "rag_chain = ({\n",
    "  \"context\" : retriever,\n",
    "  \"question\": RunnablePassthrough()\n",
    "} | prompt)\n",
    "\n",
    "rag_chain.invoke(\"Explain the OSI Layer Model\")"
   ]
  },
  {
   "cell_type": "markdown",
   "metadata": {},
   "source": [
    "##### Process documents to convert them into strings seperated by newlines"
   ]
  },
  {
   "cell_type": "code",
   "execution_count": 25,
   "metadata": {},
   "outputs": [],
   "source": [
    "def docs_to_str(docs):\n",
    "  return \"\\n\\n\".join(doc.page_content for doc in documents)"
   ]
  },
  {
   "cell_type": "code",
   "execution_count": 26,
   "metadata": {},
   "outputs": [
    {
     "data": {
      "text/plain": [
       "ChatPromptValue(messages=[HumanMessage(content='\\nAnswer the question based only on the following context:\\nPart I Syllabus\\n1\\nLecture Date Subject\\n1 15/01/2025 Introduction\\n20/01/2025 Network layer & physical resilience\\n2 Data link layer – Flow control\\nData link layer – Error control\\n3 Local area network – Introduction\\n4 Local area network – MAC\\nLocal area network – Ethernet\\n5 Local area network – WLAN\\nMobile Access Networks: From 1G to 5G \\n6 Packet switch network – Network paradigm\\n\\nWhich one is more valuable?\\n2\\n\\nSC2008 Computer Networks\\n3\\nLecture 2\\nNetwork Layers and Physical Resilience\\n\\nContents\\n• Layered Network Architecture\\n– Motivations and Benefits\\n– OSI 7-Layer Model\\n– Internet 5-Layer Implementation\\n• Physical Resilience\\n– Link Failure probability\\n– Network resilience calculation\\n4\\n\\nLayered Network Architecture\\n\\nMotivations for Layered Network \\nArchitecture\\n• Networks are complex with many pieces\\n– Hosts, routers, links, applications, protocols, \\nhardware, software\\n• Dealing with complex systems\\n– Explicit structure allowing identification, relationship of \\ndifferent pieces\\n• Layered reference model for discussion\\n– Modularization easing maintenance and updating\\n• Change of layer’s service transparent to rest of system\\n• Change in network technology does not affect rest of system\\n– Layering harmful? (design vs implementation)\\n6\\n\\nA Layered Example for Web\\n• Brower requests web \\npage from server\\n• Server determine if \\naccess is granted\\n• Reliable transfer \\npage from server to \\nclient\\n• Physical transfer of \\nbits from server to \\nclient\\n7\\n\\nLayered Network Architecture\\n• Network organized as a stack of layers\\n– Purpose of layer is to offer services to the layer above it and \\npasses data & control information to the layer below, using a \\nwell-defined interface\\n– Reducing design complexity\\n• Protocols: a set of rules governing communication \\nbetween two peering parties/computers \\n– define format, order of messages sent and received among network \\nentities, and actions taken on message transmission & receipt.\\n• Network Architecture: a set of layers and protocols \\nwith specifications enabling hardware/software \\ndevelopers to build systems compliant with a \\nparticular architecture\\n8\\n\\nBenefits of Layers\\n• Simplicity\\n– Easy to design once layers and their interactions are \\ndefined clearly\\n• Flexibility\\n– Easy to modify and develop networks by separate \\nlayers modifications\\n• Incremental Changes\\n– Easy to add news layers, add new functions to a layer\\n9\\n\\nOSI 7-Layer Model\\n• Function Decomposition\\n– Weakly-decoupled stack\\n• Encapsulation\\n– Each layer adding new \\nheaders\\n• Peering\\n– Only peer layer \\ncommunicating with each \\nother\\n10\\n\\nOSI Reference Model: 7 Layers \\n(More on Supplementary Materials)\\n11\\nOSI Model\\nData unit Layer Function\\nHost\\nlayers\\nData\\n7. Application Network process to application\\n6. Presentation\\nData representation, encryption and \\ndecryption, convert machine dependent \\ndata to machine independent data\\n5. Session Inter-host communication, managing \\nsessions between applications\\nSegment 4. Transport End-to-end connections, reliability \\nand flow control\\nMedia\\nlayers\\nPacket 3. Network Path determination and logical \\naddressing\\nFrame 2. Data link Physical addressing\\nBit 1. Physical Media, signal and binary transmission\\n\\nOSI in Action: Encapsulation\\n• A message begins at the top \\napplication layer and moves down \\nthe OSI layers to the bottom \\nphysical layer\\n• As the message descends, each \\nsuccessive OSI model layers adds \\na header to it\\n• A header is layer-specific \\ninformation that basically explains \\nwhat functions the layer carries out\\n• Conversely, at the receiving end, \\nheaders are stripped from the \\nmessage as it travels up the OSI \\nlayers.\\n12\\n\\nA Simple Computer Network\\n13\\n\\nHeader Processing at Switch Node\\n14\\n\\nOSI Unified View: Protocols\\n• Layer n in one machine interacts with layer n in \\nanother machine to provide a service to layer n +1\\n• The entities comprising the corresponding layers on \\ndifferent machines are called peer processes.\\n• The machines use a set of rules and conventions \\ncalled the layer-n protocol.\\n• Layer-n peer processes communicate by exchanging \\nProtocol Data Units (PDUs)\\n15\\nn\\nEntity\\nn\\nEntity\\nLayer n peer protocol\\nn-PDUs\\n\\nOSI Unified View: Services\\n• Communication between peer processes is virtual \\nand actually indirect\\n• Layer n+1 transfers information by invoking the \\nservices provided by layer n\\n• Services are available at Service Access Points \\n(SAP’s)\\n• Each layer passes data & control information to the \\nlayer below it until the physical layer is reached and \\ntransfer occurs\\n• The data passed to the layer below is called a \\nService Data Unit (SDU)\\n• SDU’s are encapsulated in PDU’s\\n16\\n\\nLayers, Services & Protocols\\n17\\nn+1\\nentity\\nn-SAP\\nn+1\\nentity\\nn-SAP\\nn entity n entity\\nn-SDU\\nn-SDU\\nn-SDU\\nH\\nH n-SDU\\nn-PDU\\n\\nOSI Model in a Nutshell\\n18\\n\\nTCP/IP Model: 5 Layers\\n• Application: supporting network \\napplications\\n– FTP, SMTP, HTTP\\n• Transport: host-host data transfer\\n– TCP, UDP\\n• Network: routing of datagrams from source \\nto destination\\n– IP, routing protocols\\n• Link: data transfer between neighboring \\nnetwork elements\\n– PPP, Ethernet\\n• Physical: bits on the wire\\n19\\n\\nTCP/IP Internetworking\\n• Each layer takes data from above\\n– Adds header information to create new data unit\\n– Passes new data unit to layer below\\n20\\nrouter\\n\\nTCP/IP vs OSI Models\\n21\\nPart II\\nPart I\\nCE/CZ4023\\n\\nPart I Syllabus – Fundamental \\nUnderlying Layers\\n22\\nLecture Date Subject\\n1 15/01/2025 Introduction\\n20/01/2025 Network layer & physical resilience\\n2 Data link layer – Flow control\\nData link layer – Error control\\n3 Local area network – Introduction\\n4 Local area network – MAC\\nLocal area network – Ethernet\\n5 Local area network – WLAN\\nMobile Access Networks: From 1G to 5G \\n6 Packet switch network – Network paradigm\\n\\nSC2008 – Part II\\n• Covering Higher-Level Layers\\n– Applications\\n– TCP protocol\\n– IP protocol (main emphasis)\\n– Routing process\\n23\\n\\nPhysical Layer: Network \\nResilience\\n\\n\\n\\nGMT 12:26:01, 26 December 2006\\nTaiwan▪ 7.1 magnitude quake\\n▪ Multiple aftershocks\\n▪ 6 cable systems \\neffected\\n\\nM\\nNQingdao N\\nEAC Cable Network\\n\\nC2C Cable Network\\nSingapore\\nBatangas\\nS4\\nTanshui\\nPusan Chikura\\nShima\\nHong Kong\\nS3a\\nShanghai\\nFungshan\\nS3b\\nS3c\\nS5\\nS6\\nS7 S1\\nS2a\\nS2c\\nS2b\\n\\nTanshui\\nPali\\nFangshan\\nShanghai\\nShantou\\nPhilippines\\nMiyazaki\\nAPCN-2\\nS6\\nS7\\nS4\\nS3\\nS2 S8\\nSMW3\\nOkinawa\\nMacau\\nOther Cable Network\\nChina-US\\nN3\\nS1\\nN2\\nW3\\nN1\\nW1\\nW2\\nN4\\nN5\\nN9\\nN6\\nN7\\nN8\\nS2\\nS3\\nS4\\nS5\\nFNAL/RNAL\\nFlag\\nPhilippines\\nB3\\nB5\\nB2\\nB8\\nB1\\nB4\\nB17\\nB6\\nB7\\nB9\\nAPCN\\nToucheng\\n\\nNetwork Reliability \\n• Probability that a network performs \\nsatisfactorily over a period of time\\n• Parameters:\\n– Mean Time Between Failures (MTBF)\\n– Mean Time to Failure (MTTF)\\n– Mean Time to Repair (MTTR)\\nMTBF = MTTF + MTTR\\nOperation\\nMTTF MTTR\\ntime\\n\\nLink Failure Probability\\n• Link Failure Probability: percentage of time during \\nwhich the link is dysfunctional\\n• Link Availability: percentage of time during which \\nthe link is functional\\n31\\n• ri : Probability link \\n“i” is available, i.e., \\nnot broken\\n• bi : Probability link \\n“i” is broken\\n• ri = 1 - bi\\n\\nNetwork Resilience Issues\\n• What’s the probability of a link failure ?\\n• Are there alternative paths? \\n• Is there a single point of failure ?\\n• What is the probability for two nodes to stay \\nconnected in a network?\\n32\\n\\nNetwork Resilience\\n• A measure of Network Fault Tolerance\\n• Express in terms of probability that the \\nnetwork remain connected. \\n• Assumptions\\n– The probability of link breaks are independent of each \\nother.  \\n33\\n \\nAU \\nJP  HK  \\nSG \\na \\ne \\nb \\nc d\\n\\nNetwork Availability: Single Link\\n34\\nSG AU\\nGiven that the probability of a break is 0.05,\\nLink Break:    bSG-AU = 0.05\\nLink Avail:      rSG-AU = 1-0.05\\n= 0.95\\n\\nNetwork Availability: Series\\n35\\nSG AU\\nGiven that the probability of a break is 0.05, Prob that SG \\ncannot communicate with AU\\nrSG-AU =Pr [both links survive]\\n= rSG-HW * rHW-AU\\n= (1-0.05)*(1-0.05)\\n=0.9025\\nHW\\nbP(SG-HW-AU) = 1-0.9025\\n=  0.0975\\nHWSG AU\\nbP(SG-HW-AU) = 0.0975\\n\\nNetwork Availability: Parallel\\n36\\nAU\\nGiven that the probability of a break is 0.05, \\nWhat is the probability that SG is isolated from AU ?  \\nLink B\\nSG\\nProb(break) = Pr[both links break] \\n= bA * bB\\n= 0.05 * 0.05 = 0.0025 \\nSG AU\\nbP(SG-AU) = 0.0025\\n\\nHybrid Graphs: Path-Based \\nApproach\\n37\\nGiven that the probability of a break is 0.05, Calculate the \\nProb that SG is isolated from  AU.\\nrP(SG-HW-AU) = rSG-HW * rHW-AU\\n= (1-0.05)*(1-0.05)\\n= 0.9025\\nAUHWSG\\n0.05\\n0.05 0.05\\nbP(SG-HW-AU) = 1- rP(SG-HW-AU)\\n= 1-0.9024\\n= 0.0975\\nProb. SG Disconnected from AU = bP(SG-HW-AU) * bP(SG-AU)\\n= 0.0975 * 0.05\\n= 0.0045125\\n\\nRules for Network Availability\\n• Link in series\\n– Calculate that probability that all links in the series are \\nworking\\n• Link in parallel \\n– Calculate the probability that all links are broken. \\n• Combination of series and parallel\\n– Decompose them into paths\\n– Calculate network availability using path-based \\napproach\\n\\nLearning Objectives\\n• Layered Network Architecture\\n– Why layering?\\n– OSI model and its functions\\n– TCP/IP model and its functions\\n– Mapping between OSI and TCP/IP Models\\n• Physical Layer Resilience\\n– Definition of link availability and calculation\\n– Path-based approach\\n39\\n\\nSupplementary Materials\\n\\nPhysical Layer\\n• Provides physical interface for transmission of \\ninformation\\n• Defines rules by which bits are passed from one \\nsystem to another on a physical communication \\nmedium\\n• Covers all – mechanical, electrical, functional and \\nprocedural – aspects for physical communication\\n• Such characteristics as voltage levels, timing of \\nvoltage changes, physical data rates, maximum \\ntransmission distances, physical connectors, and \\nother similar attributes are defined by physical layer \\nspecifications\\n41\\n\\nData Link Layer\\n• Data link layer attempts to provide reliable \\ncommunication over the physical layer interface \\n• Breaks the outgoing data into frames and reassemble the \\nreceived frames\\n• Create and detect frame boundaries\\n• Handle errors by implementing an acknowledgement and \\nretransmission scheme\\n• Implement flow control\\n• Supports points-to-point as well as broadcast \\ncommunication\\n• Supports simplex, half-duplex or full-duplex \\ncommunication\\n42\\n\\nNetwork Layer\\n• Implements routing of frames (packets) through the \\nnetwork\\n• Defines the most optimum path the packet should \\ntake from the source to the destination\\n• Defines logical addressing so that any endpoint can \\nbe identified\\n• Handles congestion in the network\\n• Facilitates interconnection between heterogeneous \\nnetworks (Internetworking)\\n• The network layer also defines how to fragment a \\npacket into smaller packets to accommodate \\ndifferent media\\n43\\n\\nTransport Layer\\n• Purpose of this layer is to provide a reliable \\nmechanism for the exchange of data between two \\nprocesses in different computers\\n• Ensures that the data units are delivered error free\\n• Ensures that data units are delivered in sequence\\n• Ensures that there is no loss or duplication of data \\nunits\\n• Provides connectionless or connection oriented \\nservice\\n• Provides for the connection management\\n• Multiplex  multiple connection over a single channel\\n44\\n\\nSession Layer\\n• Provides mechanism for controlling the dialogue between the \\ntwo end systems. It defines how to start, control and end \\nconversations (called sessions) between applications\\n• Requests for a logical connection to be established on an end-\\nuser’s request\\n• Any necessary log-on or password validation is also handled \\nby this layer\\n• Session layer is also responsible for terminating the \\nconnection\\n• This layer provides services like dialogue discipline which can \\nbe full duplex or half duplex\\n• Session layer can also provide check-pointing mechanism \\nsuch that if a failure of some sort occurs between checkpoints, \\nall data can be retransmitted from the last checkpoint\\n45\\n\\nPresentation Layer\\n• Presentation layer defines the format in which the \\ndata is to be exchanged between the two \\ncommunicating entities\\n• Also handles data compression and data encryption \\n(cryptography)\\n46\\n\\nApplication Layer\\n• Application layer interacts with application programs \\nand is the highest level of OSI model\\n• Application layer contains management functions to \\nsupport distributed applications\\n• Examples of application layer are applications such \\nas file transfer, electronic mail, remote login etc\\n47\\n\\nQuestion: Explain the OSI model\\n\\nAnswer:\\n', additional_kwargs={}, response_metadata={})])"
      ]
     },
     "execution_count": 26,
     "metadata": {},
     "output_type": "execute_result"
    }
   ],
   "source": [
    "rag_chain = (\n",
    "  {\"context\": retriever | docs_to_str, \"question\": RunnablePassthrough()} | prompt\n",
    ")\n",
    "\n",
    "rag_chain.invoke(\"Explain the OSI model\")"
   ]
  },
  {
   "cell_type": "code",
   "execution_count": 27,
   "metadata": {},
   "outputs": [
    {
     "name": "stdout",
     "output_type": "stream",
     "text": [
      "The OSI (Open Systems Interconnection) Model is a 7-layered framework that describes how data is transmitted over a network. The 7 layers are:\n",
      "\n",
      "1. Physical Layer: Defines the physical means of transmitting data between devices.\n",
      "2. Data Link Layer: Provides reliable data transfer between two devices on the same network.\n",
      "3. Network Layer: Routes data between devices on different networks.\n",
      "4. Transport Layer: Ensures reliable data transfer between devices.\n",
      "5. Session Layer: Establishes, manages, and terminates connections between applications.\n",
      "6. Presentation Layer: Converts data into a format that can be understood by the receiving device.\n",
      "7. Application Layer: Supports functions such as email, file transfer, and remote login.\n",
      "\n",
      "Each layer communicates with its peer layer on other devices through a well-defined interface, allowing data to be transmitted reliably and efficiently across a network. The OSI Model helps network designers and engineers to understand and implement network protocols, and to troubleshoot network problems. \n",
      "\n",
      "In the OSI Model, data is encapsulated as it moves down the layers, with each layer adding its own header to the data. At the receiving end, the headers are stripped off as the data moves up the layers, allowing the original data to be reconstructed. \n",
      "\n",
      "The OSI Model provides a standardized framework for networking, enabling devices from different vendors to communicate with each other seamlessly. It has become a widely accepted standard for network design and implementation. \n",
      "\n",
      "The key benefits of the OSI Model include:\n",
      "\n",
      "* Simplifies network design and implementation\n",
      "* Enables interoperability between devices from different vendors\n",
      "* Facilitates network troubleshooting and maintenance\n",
      "* Provides a framework for understanding network protocols and architectures\n",
      "\n",
      "Overall, the OSI Model is a fundamental concept in computer networking, and its understanding is essential for designing, implementing, and managing networks.\n"
     ]
    }
   ],
   "source": [
    "# Complete RAG Chain with LLM Output\n",
    "RAG_chain = (\n",
    "   {\"context\": retriever | docs_to_str, \"question\": RunnablePassthrough()} | prompt | llm | output_parser\n",
    ")\n",
    "\n",
    "question = \"Explain the OSI Model\"\n",
    "response = RAG_chain.invoke(question)\n",
    "print(response)"
   ]
  },
  {
   "cell_type": "markdown",
   "metadata": {},
   "source": [
    "# Conversational RAG"
   ]
  },
  {
   "cell_type": "markdown",
   "metadata": {},
   "source": [
    "## Handle follow up questions"
   ]
  },
  {
   "cell_type": "code",
   "execution_count": 28,
   "metadata": {},
   "outputs": [],
   "source": [
    "from langchain_core.messages import HumanMessage, AIMessage\n",
    "\n",
    "chat_history = []\n",
    "\n",
    "chat_history.extend([\n",
    "  HumanMessage(content=question),\n",
    "  AIMessage(content=response)\n",
    "])"
   ]
  },
  {
   "cell_type": "code",
   "execution_count": 29,
   "metadata": {},
   "outputs": [
    {
     "data": {
      "text/plain": [
       "[HumanMessage(content='Explain the OSI Model', additional_kwargs={}, response_metadata={}),\n",
       " AIMessage(content='The OSI (Open Systems Interconnection) Model is a 7-layered framework that describes how data is transmitted over a network. The 7 layers are:\\n\\n1. Physical Layer: Defines the physical means of transmitting data between devices.\\n2. Data Link Layer: Provides reliable data transfer between two devices on the same network.\\n3. Network Layer: Routes data between devices on different networks.\\n4. Transport Layer: Ensures reliable data transfer between devices.\\n5. Session Layer: Establishes, manages, and terminates connections between applications.\\n6. Presentation Layer: Converts data into a format that can be understood by the receiving device.\\n7. Application Layer: Supports functions such as email, file transfer, and remote login.\\n\\nEach layer communicates with its peer layer on other devices through a well-defined interface, allowing data to be transmitted reliably and efficiently across a network. The OSI Model helps network designers and engineers to understand and implement network protocols, and to troubleshoot network problems. \\n\\nIn the OSI Model, data is encapsulated as it moves down the layers, with each layer adding its own header to the data. At the receiving end, the headers are stripped off as the data moves up the layers, allowing the original data to be reconstructed. \\n\\nThe OSI Model provides a standardized framework for networking, enabling devices from different vendors to communicate with each other seamlessly. It has become a widely accepted standard for network design and implementation. \\n\\nThe key benefits of the OSI Model include:\\n\\n* Simplifies network design and implementation\\n* Enables interoperability between devices from different vendors\\n* Facilitates network troubleshooting and maintenance\\n* Provides a framework for understanding network protocols and architectures\\n\\nOverall, the OSI Model is a fundamental concept in computer networking, and its understanding is essential for designing, implementing, and managing networks.', additional_kwargs={}, response_metadata={})]"
      ]
     },
     "execution_count": 29,
     "metadata": {},
     "output_type": "execute_result"
    }
   ],
   "source": [
    "chat_history"
   ]
  },
  {
   "cell_type": "markdown",
   "metadata": {},
   "source": [
    "##### Contextualise the follow up question so that the LLM knows to base the answer on the previous question and not give a generic answer"
   ]
  },
  {
   "cell_type": "code",
   "execution_count": 30,
   "metadata": {},
   "outputs": [
    {
     "data": {
      "text/plain": [
       "'What is the function and characteristics of the first layer of the OSI Model, which is responsible for transmitting raw bits over a physical medium?'"
      ]
     },
     "execution_count": 30,
     "metadata": {},
     "output_type": "execute_result"
    }
   ],
   "source": [
    "from langchain_core.prompts import MessagesPlaceholder\n",
    "\n",
    "contextualize_q_system_prompt = (\n",
    "  \"Given a chat history and the latest user question\"\n",
    "  \"which might reference context in the chat history,\"\n",
    "  \"formulate a standalone question which can be understood\"\n",
    "  \"without the chat history. Do not answer the question,\"\n",
    "  \"just reformulate it if needed and otherwise return it as is\"\n",
    ")\n",
    "\n",
    "contextualize_q_prompt = ChatPromptTemplate(\n",
    "  [\n",
    "    (\"system\", contextualize_q_system_prompt),\n",
    "    MessagesPlaceholder(\"chat_history\"),\n",
    "    (\"human\", \"{input}\"),\n",
    "  ]\n",
    ")\n",
    "\n",
    "contextualize_q_chain = contextualize_q_prompt | llm | output_parser\n",
    "contextualize_q_chain.invoke({\"input\": \"What is the first layer?\", \"chat_history\": chat_history})"
   ]
  },
  {
   "cell_type": "markdown",
   "metadata": {},
   "source": [
    "##### Retrieving documents related to our chat history"
   ]
  },
  {
   "cell_type": "code",
   "execution_count": 31,
   "metadata": {},
   "outputs": [
    {
     "data": {
      "text/plain": [
       "[Document(id='de320ff0-9bcd-49de-ac0e-40029639701d', metadata={'author': 'junluo@ntu.edu.sg', 'creationdate': '2025-01-15T09:00:47+00:00', 'creator': 'Microsoft® PowerPoint® 2019', 'moddate': '2025-01-15T17:01:56+08:00', 'page': 10, 'page_label': '11', 'producer': 'Adobe PDF Services', 'source': 'docs\\\\M1-L2-Network Layer & Physical Resilience.pdf', 'subject': 'CE3005@NTU', 'title': '02. Network Layer and Physical Resilience', 'total_pages': 47}, page_content='OSI Reference Model: 7 Layers \\n(More on Supplementary Materials)\\n11\\nOSI Model\\nData unit Layer Function\\nHost\\nlayers\\nData\\n7. Application Network process to application\\n6. Presentation\\nData representation, encryption and \\ndecryption, convert machine dependent \\ndata to machine independent data\\n5. Session Inter-host communication, managing \\nsessions between applications\\nSegment 4. Transport End-to-end connections, reliability \\nand flow control\\nMedia\\nlayers\\nPacket 3. Network Path determination and logical \\naddressing\\nFrame 2. Data link Physical addressing\\nBit 1. Physical Media, signal and binary transmission'),\n",
       " Document(id='e361b517-b6c5-405c-bba8-effb7111b7dd', metadata={'author': 'junluo@ntu.edu.sg', 'creationdate': '2025-01-15T09:00:47+00:00', 'creator': 'Microsoft® PowerPoint® 2019', 'moddate': '2025-01-15T17:01:56+08:00', 'page': 38, 'page_label': '39', 'producer': 'Adobe PDF Services', 'source': 'docs\\\\M1-L2-Network Layer & Physical Resilience.pdf', 'subject': 'CE3005@NTU', 'title': '02. Network Layer and Physical Resilience', 'total_pages': 47}, page_content='Learning Objectives\\n• Layered Network Architecture\\n– Why layering?\\n– OSI model and its functions\\n– TCP/IP model and its functions\\n– Mapping between OSI and TCP/IP Models\\n• Physical Layer Resilience\\n– Definition of link availability and calculation\\n– Path-based approach\\n39')]"
      ]
     },
     "execution_count": 31,
     "metadata": {},
     "output_type": "execute_result"
    }
   ],
   "source": [
    "from langchain.chains import create_history_aware_retriever\n",
    "\n",
    "history_aware_retriever = create_history_aware_retriever(\n",
    "  llm, retriever, contextualize_q_prompt\n",
    ")\n",
    "\n",
    "history_aware_retriever.invoke({\"input\": \"What is the first layer?\", \"chat_history\": chat_history})"
   ]
  },
  {
   "cell_type": "markdown",
   "metadata": {},
   "source": [
    "#### Final Chain\n",
    "\n",
    "User query → Retriever → Documents → create_stuff_documents_chain → Formats prompt with {context} filled → LLM → Response"
   ]
  },
  {
   "cell_type": "code",
   "execution_count": 38,
   "metadata": {},
   "outputs": [],
   "source": [
    "from langchain.chains import create_retrieval_chain\n",
    "from langchain.chains.combine_documents import create_stuff_documents_chain\n",
    "\n",
    "question_answer_prompt = ChatPromptTemplate.from_messages([\n",
    "  (\"system\", \"You are an helpful AI assitant tasked to answer the user's questions\"),\n",
    "  (\"system\", \"Context: {context}\"),\n",
    "  MessagesPlaceholder(variable_name=\"chat_history\"),\n",
    "  (\"human\", \"{input}\")\n",
    "  \n",
    "])\n",
    "\n",
    "question_answer_chain = create_stuff_documents_chain(llm, question_answer_prompt)\n",
    "rag_chain = create_retrieval_chain(history_aware_retriever, question_answer_chain)"
   ]
  },
  {
   "cell_type": "code",
   "execution_count": 39,
   "metadata": {},
   "outputs": [
    {
     "data": {
      "text/plain": [
       "{'input': 'What is the first layer?',\n",
       " 'chat_history': [{'role': 'human',\n",
       "   'content': 'What is the page number of the page that talks about the benefits of a layered approach?'},\n",
       "  {'role': 'ai',\n",
       "   'content': 'The page number is not explicitly stated, but based on the context provided, it appears that the benefits of layers are discussed on page 9, as indicated by the line \"9\" at the end of the benefits section.'}],\n",
       " 'context': [Document(id='6bf9afd5-8882-47d3-b820-b10e4448da01', metadata={'author': 'junluo@ntu.edu.sg', 'creationdate': '2025-01-15T09:00:47+00:00', 'creator': 'Microsoft® PowerPoint® 2019', 'moddate': '2025-01-15T17:01:56+08:00', 'page': 4, 'page_label': '5', 'producer': 'Adobe PDF Services', 'source': 'docs\\\\M1-L2-Network Layer & Physical Resilience.pdf', 'subject': 'CE3005@NTU', 'title': '02. Network Layer and Physical Resilience', 'total_pages': 47}, page_content='Layered Network Architecture'),\n",
       "  Document(id='e361b517-b6c5-405c-bba8-effb7111b7dd', metadata={'author': 'junluo@ntu.edu.sg', 'creationdate': '2025-01-15T09:00:47+00:00', 'creator': 'Microsoft® PowerPoint® 2019', 'moddate': '2025-01-15T17:01:56+08:00', 'page': 38, 'page_label': '39', 'producer': 'Adobe PDF Services', 'source': 'docs\\\\M1-L2-Network Layer & Physical Resilience.pdf', 'subject': 'CE3005@NTU', 'title': '02. Network Layer and Physical Resilience', 'total_pages': 47}, page_content='Learning Objectives\\n• Layered Network Architecture\\n– Why layering?\\n– OSI model and its functions\\n– TCP/IP model and its functions\\n– Mapping between OSI and TCP/IP Models\\n• Physical Layer Resilience\\n– Definition of link availability and calculation\\n– Path-based approach\\n39')],\n",
       " 'answer': 'The first layer in the OSI model is the Physical Layer. In the context of the OSI model, the layers are ordered as follows: \\n\\n1. Physical Layer\\n2. Data Link Layer\\n3. Network Layer\\n4. Transport Layer\\n5. Session Layer\\n6. Presentation Layer\\n7. Application Layer\\n\\nIn the TCP/IP model, the first layer is also the Network Access Layer (which combines the functions of the Physical and Data Link layers of the OSI model).'}"
      ]
     },
     "execution_count": 39,
     "metadata": {},
     "output_type": "execute_result"
    }
   ],
   "source": [
    "rag_chain.invoke({\"input\": \"What is the first layer?\", \"chat_history\": chat_history})"
   ]
  },
  {
   "cell_type": "markdown",
   "metadata": {},
   "source": [
    "### Multi User Chat Bot"
   ]
  },
  {
   "cell_type": "markdown",
   "metadata": {},
   "source": [
    "##### Test out the firebase db"
   ]
  },
  {
   "cell_type": "code",
   "execution_count": 34,
   "metadata": {},
   "outputs": [
    {
     "name": "stderr",
     "output_type": "stream",
     "text": [
      "c:\\Users\\Anish\\Desktop\\CodingProjects\\RAG_Chatbot\\.venv\\Lib\\site-packages\\google\\cloud\\firestore_v1\\base_collection.py:303: UserWarning: Detected filter using positional arguments. Prefer using the 'filter' keyword argument instead.\n",
      "  return query.where(field_path, op_string, value)\n"
     ]
    },
    {
     "name": "stdout",
     "output_type": "stream",
     "text": [
      "human: What is the page number of the page that talks about the benefits of a layered approach?\n",
      "AI: The page number is not explicitly stated, but based on the context provided, it appears that the benefits of layers are discussed on page 9, as indicated by the line \"9\" at the end of the benefits section.\n"
     ]
    }
   ],
   "source": [
    "import uuid\n",
    "from database import get_chat_history\n",
    "\n",
    "session_id = str(uuid.uuid4())\n",
    "question = \"What is the page number of the page that talks about the benefits of a layered approach?\"\n",
    "chat_history = get_chat_history(session_id=session_id)\n",
    "answer = rag_chain.invoke({\"input\": question, \"chat_history\": chat_history})['answer']\n",
    "print(f\"human: {question}\")\n",
    "print(f\"AI: {answer}\")"
   ]
  },
  {
   "cell_type": "code",
   "execution_count": 35,
   "metadata": {},
   "outputs": [
    {
     "name": "stdout",
     "output_type": "stream",
     "text": [
      "{'session_id': '907babd3-0f56-4af9-ad0e-504afc356707', 'user_query': 'What is the page number of the page that talks about the benefits of a layered approach?', 'llm_response': 'The page number is not explicitly stated, but based on the context provided, it appears that the benefits of layers are discussed on page 9, as indicated by the line \"9\" at the end of the benefits section.', 'model': 'llama-3.3-70b-versatile', 'created_at': Sentinel: Value used to set a document field to the server timestamp.}\n",
      "<class 'dict'>\n"
     ]
    }
   ],
   "source": [
    "# Add chat history to database\n",
    "from database import insert_chat_logs\n",
    "\n",
    "insert_chat_logs(\n",
    "  session_id=session_id,\n",
    "  user_query=question,\n",
    "  llm_response=answer,\n",
    "  model=\"llama-3.3-70b-versatile\"\n",
    ")"
   ]
  },
  {
   "cell_type": "code",
   "execution_count": 36,
   "metadata": {},
   "outputs": [
    {
     "name": "stderr",
     "output_type": "stream",
     "text": [
      "c:\\Users\\Anish\\Desktop\\CodingProjects\\RAG_Chatbot\\.venv\\Lib\\site-packages\\google\\cloud\\firestore_v1\\base_collection.py:303: UserWarning: Detected filter using positional arguments. Prefer using the 'filter' keyword argument instead.\n",
      "  return query.where(field_path, op_string, value)\n"
     ]
    },
    {
     "name": "stdout",
     "output_type": "stream",
     "text": [
      "human: What was the first page number provided?\n",
      "AI: The benefits of layers are discussed on page 9.\n"
     ]
    }
   ],
   "source": [
    "question2 = \"What was the first page number provided?\"\n",
    "chat_history = get_chat_history(session_id)\n",
    "answer2 = rag_chain.invoke({\"input\": question, \"chat_history\": chat_history})[\"answer\"]\n",
    "print(f\"human: {question2}\")\n",
    "print(f\"AI: {answer2}\")"
   ]
  },
  {
   "cell_type": "code",
   "execution_count": 37,
   "metadata": {},
   "outputs": [
    {
     "name": "stdout",
     "output_type": "stream",
     "text": [
      "{'session_id': '907babd3-0f56-4af9-ad0e-504afc356707', 'user_query': 'What was the first page number provided?', 'llm_response': 'The benefits of layers are discussed on page 9.', 'model': 'llama-3.3-70b-versatile', 'created_at': Sentinel: Value used to set a document field to the server timestamp.}\n",
      "<class 'dict'>\n"
     ]
    }
   ],
   "source": [
    "insert_chat_logs(\n",
    "  session_id=session_id,\n",
    "  user_query=question2,\n",
    "  llm_response=answer2,\n",
    "  model=\"llama-3.3-70b-versatile\"\n",
    ")"
   ]
  }
 ],
 "metadata": {
  "kernelspec": {
   "display_name": ".venv",
   "language": "python",
   "name": "python3"
  },
  "language_info": {
   "codemirror_mode": {
    "name": "ipython",
    "version": 3
   },
   "file_extension": ".py",
   "mimetype": "text/x-python",
   "name": "python",
   "nbconvert_exporter": "python",
   "pygments_lexer": "ipython3",
   "version": "3.11.11"
  }
 },
 "nbformat": 4,
 "nbformat_minor": 2
}
